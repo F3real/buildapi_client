{
 "cells": [
  {
   "cell_type": "code",
   "execution_count": null,
   "metadata": {
    "collapsed": false
   },
   "outputs": [],
   "source": [
    "import logging\n",
    "\n",
    "from buildapi_client import (\n",
    "    trigger_arbitrary_job,\n",
    "    make_cancel_request,\n",
    "    make_retrigger_request,\n",
    "    make_query_repositories_request\n",
    ")\n",
    "\n",
    "import keyring\n",
    "\n",
    "user = \"armenzg@mozilla.com\"\n",
    "auth = (user,\n",
    "        keyring.get_password(\"ldap\", user))\n",
    "\n",
    "LOG = logging.getLogger()\n",
    "LOG.setLevel(logging.INFO)\n",
    "\n",
    "LOG.info(\"Trigger arbitrary job\")\n",
    "trigger_arbitrary_job(\n",
    "    repo_name='try',\n",
    "    builder='Linux try build',\n",
    "    revision='075a055fff49',\n",
    "    auth=auth,\n",
    "    dry_run=True\n",
    ")\n",
    "\n",
    "'''\n",
    "make_retrigger_request(\n",
    "    repo_name='try',\n",
    "    request_id=0, \n",
    "    auth=auth, \n",
    "    dry_run=True)\n",
    "\n",
    "make_cancel_request(\n",
    "    repo_name='try',\n",
    "    request_id=0, \n",
    "    auth=auth, \n",
    "    dry_run=True)\n",
    "'''\n",
    "\n",
    "LOG.info(\"Query repositories\")\n",
    "repositories = make_query_repositories_request(auth=auth)\n",
    "print repositories\n"
   ]
  },
  {
   "cell_type": "code",
   "execution_count": null,
   "metadata": {
    "collapsed": true
   },
   "outputs": [],
   "source": []
  }
 ],
 "metadata": {
  "kernelspec": {
   "display_name": "Python 2",
   "language": "python",
   "name": "python2"
  },
  "language_info": {
   "codemirror_mode": {
    "name": "ipython",
    "version": 2
   },
   "file_extension": ".py",
   "mimetype": "text/x-python",
   "name": "python",
   "nbconvert_exporter": "python",
   "pygments_lexer": "ipython2",
   "version": "2.7.6"
  }
 },
 "nbformat": 4,
 "nbformat_minor": 0
}
